{
 "cells": [
  {
   "cell_type": "code",
   "execution_count": 28,
   "metadata": {},
   "outputs": [
    {
     "name": "stderr",
     "output_type": "stream",
     "text": [
      "UsageError: Line magic function `%nb_mypy` not found.\n"
     ]
    }
   ],
   "source": [
    "# Don't use strict note for type checking yet\n",
    "%nb_mypy mypy-options --pretty"
   ]
  },
  {
   "cell_type": "code",
   "execution_count": 38,
   "metadata": {},
   "outputs": [],
   "source": [
    "import typing\n",
    "from typing import Any, Protocol, TypeAlias\n",
    "\n",
    "class IterableDatasetProtocol(Protocol):\n",
    "    def __get__(self) -> int:\n",
    "        ...\n",
    "\n",
    "class IterableDatasetImplementation(IterableDatasetProtocol):\n",
    "    def __len__(self): \n",
    "        return 0\n",
    "    \n",
    "\n",
    "ds = IterableDatasetImplementation()        \n"
   ]
  },
  {
   "cell_type": "markdown",
   "metadata": {},
   "source": [
    "# Don't do this:\n",
    "The protocol defined relies on other protocols."
   ]
  },
  {
   "cell_type": "code",
   "execution_count": 19,
   "metadata": {},
   "outputs": [],
   "source": [
    "import typing\n",
    "from typing import Any, Protocol, TypeAlias\n",
    "import torch\n",
    "\n",
    "\n",
    "class IterableDatasetProtocol(typing.Iterable, Protocol):\n",
    "    def __get__(self) -> int:\n",
    "        ...\n"
   ]
  },
  {
   "cell_type": "code",
   "execution_count": 26,
   "metadata": {},
   "outputs": [
    {
     "ename": "TypeError",
     "evalue": "Can't instantiate abstract class IterableDatasetImplementation with abstract method __iter__",
     "output_type": "error",
     "traceback": [
      "\u001b[0;31m---------------------------------------------------------------------------\u001b[0m",
      "\u001b[0;31mTypeError\u001b[0m                                 Traceback (most recent call last)",
      "\u001b[1;32m/home/thomas-22/repos/object-oriented-ML/design_decisions/python_language_features/typing_protocols.ipynb Cell 2\u001b[0m line \u001b[0;36m6\n\u001b[1;32m      <a href='vscode-notebook-cell://wsl%2Bubuntu-22.04/home/thomas-22/repos/object-oriented-ML/design_decisions/python_language_features/typing_protocols.ipynb#W1sdnNjb2RlLXJlbW90ZQ%3D%3D?line=1'>2</a>\u001b[0m     \u001b[39mdef\u001b[39;00m \u001b[39m__len__\u001b[39m(\u001b[39mself\u001b[39m): \n\u001b[1;32m      <a href='vscode-notebook-cell://wsl%2Bubuntu-22.04/home/thomas-22/repos/object-oriented-ML/design_decisions/python_language_features/typing_protocols.ipynb#W1sdnNjb2RlLXJlbW90ZQ%3D%3D?line=2'>3</a>\u001b[0m         \u001b[39mreturn\u001b[39;00m \u001b[39m0\u001b[39m\n\u001b[0;32m----> <a href='vscode-notebook-cell://wsl%2Bubuntu-22.04/home/thomas-22/repos/object-oriented-ML/design_decisions/python_language_features/typing_protocols.ipynb#W1sdnNjb2RlLXJlbW90ZQ%3D%3D?line=5'>6</a>\u001b[0m ds \u001b[39m=\u001b[39m IterableDatasetImplementation()\n",
      "\u001b[0;31mTypeError\u001b[0m: Can't instantiate abstract class IterableDatasetImplementation with abstract method __iter__"
     ]
    }
   ],
   "source": [
    "class IterableDatasetImplementation(IterableDatasetProtocol):\n",
    "    def __get__(self): \n",
    "        return 0\n",
    "    \n",
    "\n",
    "ds = IterableDatasetImplementation()"
   ]
  },
  {
   "cell_type": "code",
   "execution_count": 33,
   "metadata": {},
   "outputs": [],
   "source": [
    "!mkdir tmp"
   ]
  },
  {
   "cell_type": "markdown",
   "metadata": {},
   "source": [
    "## Doing same by running mypy on .py file"
   ]
  },
  {
   "cell_type": "code",
   "execution_count": 35,
   "metadata": {},
   "outputs": [
    {
     "name": "stdout",
     "output_type": "stream",
     "text": [
      "Overwriting tmp/1.py\n"
     ]
    }
   ],
   "source": [
    "%%writefile tmp/1.py\n",
    "\n",
    "import typing\n",
    "from typing import Any, Protocol, TypeAlias\n",
    "import torch\n",
    "\n",
    "\n",
    "class IterableDatasetProtocol(typing.Iterable, Protocol):\n",
    "    def __get__(self) -> int:\n",
    "        ...\n",
    "\n",
    "class IterableDatasetImplementation(IterableDatasetProtocol):\n",
    "    def __get__(self): \n",
    "        return 0\n",
    "    \n",
    "\n",
    "ds = IterableDatasetImplementation()\n",
    "\n",
    "# Extra step\n",
    "def iterate_over_dataset(dataset: IterableDatasetProtocol) -> None:\n",
    "    for i in dataset:\n",
    "        print(i)\n",
    "\n",
    "iterate_over_dataset(ds)"
   ]
  },
  {
   "cell_type": "code",
   "execution_count": 37,
   "metadata": {},
   "outputs": [
    {
     "name": "stdout",
     "output_type": "stream",
     "text": [
      "tmp/1.py:16: \u001b[1m\u001b[31merror:\u001b[m Cannot instantiate abstract class \u001b[m\u001b[1m\"IterableDatasetImplementation\"\u001b[m with abstract attribute \u001b[m\u001b[1m\"__iter__\"\u001b[m  \u001b[m\u001b[33m[abstract]\u001b[m\n",
      "\u001b[1m\u001b[31mFound 1 error in 1 file (checked 1 source file)\u001b[m\n"
     ]
    }
   ],
   "source": [
    "!mypy tmp/1.py\n"
   ]
  },
  {
   "cell_type": "markdown",
   "metadata": {},
   "source": [
    "# Nested Protocol reimplemented using inheritance from other protocols"
   ]
  },
  {
   "cell_type": "code",
   "execution_count": 42,
   "metadata": {},
   "outputs": [],
   "source": [
    "\n",
    "import typing\n",
    "from typing import Any, Protocol, TypeAlias\n",
    "import torch\n",
    "\n",
    "\n",
    "class IndexableDatasetProtocol(typing.Iterable, Protocol):\n",
    "    \"\"\"We inherit __iter__ and __len__ from typing.Sequence.\"\"\"\n",
    "    def additional_method(self) -> None:\n",
    "        ...\n",
    "\n",
    "\n",
    "class IterableDatasetImplementation(IterableDatasetProtocol):\n",
    "    def __getitem__(self, index: int) -> int:\n",
    "        return 0\n",
    "\n",
    "    def additional_method(self) -> None:\n",
    "        print(\"Hello\")\n",
    "    \n",
    "\n",
    "ds = IterableDatasetImplementation()\n",
    "\n",
    "# # Extra step\n"
   ]
  },
  {
   "cell_type": "markdown",
   "metadata": {},
   "source": [
    "# Explicit type checks"
   ]
  },
  {
   "cell_type": "code",
   "execution_count": 45,
   "metadata": {},
   "outputs": [
    {
     "data": {
      "text/plain": [
       "True"
      ]
     },
     "execution_count": 45,
     "metadata": {},
     "output_type": "execute_result"
    }
   ],
   "source": [
    "class SizedProtocol(Protocol):\n",
    "    def __len__(self) -> int:\n",
    "        ...\n",
    "\n",
    "class SizedImplementation(SizedProtocol):\n",
    "    def __len__(self) -> int:\n",
    "        return 0\n",
    "    \n",
    "my_sized = SizedImplementation()\n",
    "isinstance (my_sized, typing.Sized)"
   ]
  }
 ],
 "metadata": {
  "kernelspec": {
   "display_name": "oject-oriented-ml-KB-Hr6d0-py3.10",
   "language": "python",
   "name": "python3"
  },
  "language_info": {
   "codemirror_mode": {
    "name": "ipython",
    "version": 3
   },
   "file_extension": ".py",
   "mimetype": "text/x-python",
   "name": "python",
   "nbconvert_exporter": "python",
   "pygments_lexer": "ipython3",
   "version": "3.10.12"
  },
  "orig_nbformat": 4
 },
 "nbformat": 4,
 "nbformat_minor": 2
}
