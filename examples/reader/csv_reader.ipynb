{
 "cells": [
  {
   "cell_type": "code",
   "execution_count": 3,
   "metadata": {},
   "outputs": [
    {
     "name": "stdout",
     "output_type": "stream",
     "text": [
      "   Unnamed: 0  a  b\n",
      "0           0  1  3\n",
      "1           1  2  4\n"
     ]
    }
   ],
   "source": [
    "from pathlib import Path\n",
    "\n",
    "import pandas as pd\n",
    "\n",
    "from oo_ml.implementation.data.reader.structured_data_reader import \\\n",
    "    CSVReadConfig, CSVReader\n",
    "\n",
    "\n",
    "csv_read_config = CSVReadConfig(\n",
    "    data_dir=Path('../data'),\n",
    ")\n",
    "csv_reader = CSVReader(config=csv_read_config)\n",
    "df: pd.DataFrame = csv_reader.read(\n",
    "    target = Path('data.csv')\n",
    ")\n",
    "print(df)"
   ]
  }
 ],
 "metadata": {
  "kernelspec": {
   "display_name": "oject-oriented-ml-L4Y1N3GP-py3.10",
   "language": "python",
   "name": "python3"
  },
  "language_info": {
   "codemirror_mode": {
    "name": "ipython",
    "version": 3
   },
   "file_extension": ".py",
   "mimetype": "text/x-python",
   "name": "python",
   "nbconvert_exporter": "python",
   "pygments_lexer": "ipython3",
   "version": "3.10.6"
  },
  "orig_nbformat": 4
 },
 "nbformat": 4,
 "nbformat_minor": 2
}
