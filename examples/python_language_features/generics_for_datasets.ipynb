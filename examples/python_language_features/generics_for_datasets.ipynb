{
 "cells": [
  {
   "cell_type": "code",
   "execution_count": 8,
   "metadata": {},
   "outputs": [],
   "source": [
    "from abc import abstractmethod, abstractproperty, ABC\n",
    "from typing import Any, TypeAlias, TypeVar, Generic\n",
    "from enum import Enum\n",
    "\n",
    "import pandas as pd\n",
    "import numpy as np"
   ]
  },
  {
   "cell_type": "markdown",
   "metadata": {},
   "source": [
    "# Using *Enums* for data type"
   ]
  },
  {
   "cell_type": "code",
   "execution_count": 9,
   "metadata": {},
   "outputs": [],
   "source": [
    "# Abstract type\n",
    "class BaseDataFormat(ABC):\n",
    "    pass\n",
    "\n",
    "# Define concrete types\n",
    "class StructuredDataFormat(Enum):\n",
    "    PD_DATAFRAME = pd.DataFrame\n",
    "    NP_ARRAY = np.ndarray\n",
    "\n",
    "class SemiStructuredDataFormat(Enum):\n",
    "    JSONL = \"jsonl\"\n",
    "\n",
    "class FileFormat(Enum):\n",
    "    PATH = \"path\"\n",
    "    PATH_LIST = \"path_list\"\n",
    "\n",
    "# *Register* enums as concrete types\n",
    "BaseDataFormat.register(FileFormat)\n",
    "BaseDataFormat.register(StructuredDataFormat)\n",
    "BaseDataFormat.register(SemiStructuredDataFormat);"
   ]
  },
  {
   "cell_type": "markdown",
   "metadata": {},
   "source": [
    "## Parameterize Generics using *abstract* type"
   ]
  },
  {
   "cell_type": "code",
   "execution_count": 10,
   "metadata": {},
   "outputs": [
    {
     "name": "stdout",
     "output_type": "stream",
     "text": [
      "True False\n"
     ]
    }
   ],
   "source": [
    "DataFormat = TypeVar(\"DataFormat\", bound=BaseDataFormat)\n",
    "\n",
    "class DataSetInterface(Generic[DataFormat]):\n",
    "    @abstractmethod\n",
    "    def __init__(self, data_format: DataFormat):\n",
    "        pass\n",
    "\n",
    "    @abstractmethod\n",
    "    def to_format(self, data_format: DataFormat):\n",
    "        pass\n",
    "\n",
    "StructuredDataSetInterface = DataSetInterface[StructuredDataFormat]\n",
    "\n",
    "print(\n",
    "    isinstance(StructuredDataFormat.PD_DATAFRAME, BaseDataFormat),\n",
    "    isinstance(StructuredDataFormat, BaseDataFormat)\n",
    ")"
   ]
  },
  {
   "cell_type": "markdown",
   "metadata": {},
   "source": [
    "## Parameterize Generics listing individual *concrete* types"
   ]
  },
  {
   "cell_type": "code",
   "execution_count": 39,
   "metadata": {},
   "outputs": [],
   "source": [
    "DataFormat_v2 = TypeVar(\n",
    "    \"DataFormat_v2\", \n",
    "    StructuredDataFormat, SemiStructuredDataFormat, FileFormat,\n",
    ")\n",
    "\n",
    "class DataSetInterface(Generic[DataFormat_v2]):\n",
    "    @abstractmethod\n",
    "    def __init__(self, data_format: DataFormat_v2):\n",
    "        pass\n",
    "\n",
    "    @abstractmethod\n",
    "    def to_format(self, data_format: DataFormat_v2):\n",
    "        pass\n",
    "\n",
    "StructuredDataSetInterface = DataSetInterface[StructuredDataFormat]"
   ]
  },
  {
   "cell_type": "markdown",
   "metadata": {},
   "source": [
    "# Replace Enum with class hierarchy"
   ]
  },
  {
   "cell_type": "code",
   "execution_count": 3,
   "metadata": {},
   "outputs": [
    {
     "name": "stdout",
     "output_type": "stream",
     "text": [
      "Overwriting /var/tmp/generics_v3.py\n"
     ]
    }
   ],
   "source": [
    "%%writefile /var/tmp/generics_v3.py\n",
    "\n",
    "from abc import abstractmethod, abstractproperty, ABC\n",
    "from typing import Any, TypeAlias, NewType, TypeVar, Type, Generic\n",
    "\n",
    "import pandas as pd\n",
    "import numpy as np\n",
    "\n",
    "\n",
    "# Data Formats\n",
    "# ============\n",
    "\n",
    "# Abstract type for data formats\n",
    "class BaseDataFormat(ABC):\n",
    "    @abstractproperty\n",
    "    def object_type(self):\n",
    "        pass\n",
    "\n",
    "# Structured Data Formats\n",
    "# -----------------------\n",
    "class StructuredDataFormat(BaseDataFormat):\n",
    "    pass\n",
    "\n",
    "class PandasFormat(StructuredDataFormat):\n",
    "    def object_type(self) -> type[pd.DataFrame]:\n",
    "        return pd.DataFrame\n",
    "\n",
    "class NumpyFormat(StructuredDataFormat):\n",
    "    def object_type(self) -> type[np.ndarray]:\n",
    "        return np.ndarray\n",
    "\n",
    "# Semi-structured Data Formats\n",
    "# ----------------------------\n",
    "class SemiStructuredDataFormat(BaseDataFormat):\n",
    "    pass\n",
    "\n",
    "class JsonlinesFormat(SemiStructuredDataFormat):\n",
    "    def object_type(self) -> type[dict]:\n",
    "        return dict\n",
    "\n",
    "\n",
    "# DataSetInterface\n",
    "# ================\n",
    "\n",
    "DataFormat = TypeVar(\n",
    "    \"DataFormat\", \n",
    "    StructuredDataFormat, SemiStructuredDataFormat, JsonlinesFormat,\n",
    "    covariant=False, contravariant=False,  # invariant\n",
    ")\n",
    "\n",
    "StructuredData: TypeAlias = pd.DataFrame | np.ndarray\n",
    "SemiStructuredData: TypeAlias = dict | list[dict]\n",
    "Data: TypeAlias = StructuredData | SemiStructuredData\n",
    "\n",
    "class DataSetInterface(Generic[DataFormat]):\n",
    "    @abstractmethod\n",
    "    def __init__(self, data: Data, data_format: Type[Data]):\n",
    "        pass\n",
    "\n",
    "    @abstractmethod\n",
    "    def to_format(self, data_format: Type[Data]) -> Data:\n",
    "        pass\n",
    "\n",
    "\n",
    "# Proper usage\n",
    "StructuredDataSetInterface = DataSetInterface[StructuredDataFormat]\n",
    "\n",
    "# Wrong usage\n",
    "PandasDataSetInterface = DataSetInterface[PandasFormat]\n",
    "\n",
    "\n",
    "# Implementation\n",
    "# ==============\n",
    "\n",
    "class StructuredDataSetImplementation(DataSetInterface[StructuredDataFormat]):\n",
    "    def __init__(self, data_format: StructuredDataFormat, data: StructuredData):\n",
    "        self.data = data \n",
    "\n",
    "    def to_format(self, data_format: StructuredDataFormat) -> :\n",
    "        return self.data "
   ]
  },
  {
   "cell_type": "code",
   "execution_count": 4,
   "metadata": {},
   "outputs": [
    {
     "name": "stdout",
     "output_type": "stream",
     "text": [
      "/var/tmp/generics_v3.py:66: \u001b[1m\u001b[31merror:\u001b[m Value of type variable \u001b[m\u001b[1m\"DataFormat\"\u001b[m of \u001b[m\u001b[1m\"DataSetInterface\"\u001b[m cannot be \u001b[m\u001b[1m\"PandasFormat\"\u001b[m  \u001b[m\u001b[33m[type-var]\u001b[m\n",
      "/var/tmp/generics_v3.py:76: \u001b[1m\u001b[31merror:\u001b[m Argument 1 of \u001b[m\u001b[1m\"to_format\"\u001b[m is incompatible with supertype \u001b[m\u001b[1m\"DataSetInterface\"\u001b[m; supertype defines the argument type as \u001b[m\u001b[1m\"type[DataFrame] | type[ndarray[Any, Any]]\"\u001b[m  \u001b[m\u001b[33m[override]\u001b[m\n",
      "/var/tmp/generics_v3.py:76: \u001b[34mnote:\u001b[m This violates the Liskov substitution principle\u001b[m\n",
      "/var/tmp/generics_v3.py:76: \u001b[34mnote:\u001b[m See \u001b[4mhttps://mypy.readthedocs.io/en/stable/common_issues.html#incompatible-overrides\u001b[m\u001b[m\n",
      "\u001b[1m\u001b[31mFound 2 errors in 1 file (checked 1 source file)\u001b[m\n"
     ]
    }
   ],
   "source": [
    "! mypy /var/tmp/generics_v3.py"
   ]
  },
  {
   "cell_type": "markdown",
   "metadata": {},
   "source": [
    "# Replacing Generics with separate interfaces for each dataset type"
   ]
  },
  {
   "cell_type": "code",
   "execution_count": null,
   "metadata": {},
   "outputs": [],
   "source": [
    "# %%writefile /var/tmp/no_generics.py\n",
    "\n",
    "from abc import abstractmethod, abstractproperty, ABC\n",
    "from typing import Any, TypeAlias, NewType, TypeVar, Type, NoReturn\n",
    "\n",
    "import pandas as pd\n",
    "import numpy as np\n",
    "\n",
    "\n",
    "# DataSetInterface\n",
    "# ================\n",
    "\n",
    "\n",
    "class DataSetInterface(ABC):\n",
    "    pass\n",
    "\n",
    "class StructuredDataSetInterface(DataSetInterface):\n",
    "    @abstractmethod\n",
    "    @classmethod\n",
    "    def from_pandas(cls, pd.DataFrame):\n",
    "        pass\n",
    "\n",
    "    @abstractmethod\n",
    "    def to_pandas(self) -> pd.DataFrame:\n",
    "        pass\n",
    "\n",
    "    @abstractmethod\n",
    "    @classmethod\n",
    "    def from_numpy(cls, np.ndarray):\n",
    "        pass\n",
    "\n",
    "    @abstractmethod\n",
    "    def to_numpy(self) -> np.ndarray:\n",
    "        pass\n",
    "\n",
    "    @abstractmethod\n",
    "    def get_column_names(self) -> list[str]:\n",
    "        pass\n",
    "\n",
    "\n",
    "# Implementation\n",
    "# ==============\n",
    "\n",
    "class StructuredDataSetImplementation(DataSetInterface):\n",
    "    def __init__(self, pd_data_frame: pd.DataFrame):\n",
    "        self.data = pd_data_frame\n",
    "        \n",
    "\n",
    "    @classmethod\n",
    "    def from_pandas(cls, data: pd.DataFrame):\n",
    "        return cls(pd_data_frame=data)\n",
    "\n",
    "    def to_pandas(self) -> pd.DataFrame:\n",
    "        return self.data    \n",
    "            \n",
    "    @classmethod\n",
    "    def from_numpy(cls, data: np.ndarray):\n",
    "        return cls(\n",
    "            pd_data_frame=pd.DataFrame(data)\n",
    "        )\n",
    "\n",
    "    def to_numpy(self) -> np.ndarray:\n",
    "        return self.data.to_numpy()\n",
    "    \n",
    "    def get_column_names(self) -> list[str]:\n",
    "        return self.data.columns.tolist()"
   ]
  }
 ],
 "metadata": {
  "kernelspec": {
   "display_name": "oject-oriented-ml-2RS15okd-py3.11",
   "language": "python",
   "name": "python3"
  },
  "language_info": {
   "codemirror_mode": {
    "name": "ipython",
    "version": 3
   },
   "file_extension": ".py",
   "mimetype": "text/x-python",
   "name": "python",
   "nbconvert_exporter": "python",
   "pygments_lexer": "ipython3",
   "version": "3.11.4"
  },
  "orig_nbformat": 4
 },
 "nbformat": 4,
 "nbformat_minor": 2
}
