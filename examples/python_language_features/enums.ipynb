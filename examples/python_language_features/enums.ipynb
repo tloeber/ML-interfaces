{
 "cells": [
  {
   "cell_type": "code",
   "execution_count": 1,
   "metadata": {},
   "outputs": [],
   "source": [
    "from abc import ABC\n",
    "from enum import Enum\n",
    "\n",
    "import pandas as pd\n",
    "import numpy as np"
   ]
  },
  {
   "cell_type": "markdown",
   "metadata": {},
   "source": [
    "# Virtual Subclasses\n",
    "Below code shows our strategy for how we can leverage virtual subclassing in order to create separate, possibly unrelated Enums, and still make sure that they satisfy the same supertype. The key is that we can simply register the Enums with the same superclass. \n",
    "\n",
    "Note that the danger of virtual subclassing is that we violate the [Liskov Substitution Principle](https://en.wikipedia.org/wiki/Liskov_substitution_principle), which is usually a bad idea. Thus, we should be careful to restrict the use of virtual subclasses to cases such as this where we don't care about subclasses satisfying the same interface. Instead, making the spread classes count as the same type serves the purpose of telling the static type checker that we are indeed passing an object of the right type (even though what counts is the right type may depend on the specifics of the subclass, and this not defined by a common interface)."
   ]
  },
  {
   "cell_type": "code",
   "execution_count": 2,
   "metadata": {},
   "outputs": [],
   "source": [
    "class BaseDataFormat(ABC):\n",
    "    pass\n",
    "\n",
    "class StructuredDataFormat(Enum):\n",
    "    PD_DATAFRAME = pd.DataFrame\n",
    "    NP_ARRAY = np.ndarray\n",
    "\n",
    "BaseDataFormat.register(StructuredDataFormat);\n"
   ]
  },
  {
   "cell_type": "markdown",
   "metadata": {},
   "source": [
    "This confirms that registering enum as subclass works (for concrete members of the enum, which is what we want):"
   ]
  },
  {
   "cell_type": "code",
   "execution_count": 3,
   "metadata": {},
   "outputs": [],
   "source": [
    "assert isinstance(\n",
    "    StructuredDataFormat.PD_DATAFRAME, \n",
    "    BaseDataFormat\n",
    ")"
   ]
  },
  {
   "cell_type": "markdown",
   "metadata": {},
   "source": [
    "This doesn't apply for the enum itself, but we don't need that anyway."
   ]
  },
  {
   "cell_type": "code",
   "execution_count": 4,
   "metadata": {},
   "outputs": [
    {
     "data": {
      "text/plain": [
       "False"
      ]
     },
     "execution_count": 4,
     "metadata": {},
     "output_type": "execute_result"
    }
   ],
   "source": [
    "isinstance(\n",
    "    StructuredDataFormat, \n",
    "    BaseDataFormat\n",
    ")"
   ]
  },
  {
   "cell_type": "markdown",
   "metadata": {},
   "source": [
    "Let's check the type of the two, just out of curiosity."
   ]
  },
  {
   "cell_type": "code",
   "execution_count": 5,
   "metadata": {},
   "outputs": [
    {
     "data": {
      "text/plain": [
       "enum.EnumType"
      ]
     },
     "execution_count": 5,
     "metadata": {},
     "output_type": "execute_result"
    }
   ],
   "source": [
    "type(StructuredDataFormat)"
   ]
  },
  {
   "cell_type": "code",
   "execution_count": 6,
   "metadata": {},
   "outputs": [
    {
     "data": {
      "text/plain": [
       "<enum 'StructuredDataFormat'>"
      ]
     },
     "execution_count": 6,
     "metadata": {},
     "output_type": "execute_result"
    }
   ],
   "source": [
    "type(StructuredDataFormat.NP_ARRAY)"
   ]
  },
  {
   "cell_type": "markdown",
   "metadata": {},
   "source": [
    "## Side Note: How to achieve this without virtual subclassing\n",
    "Before I settled on virtual subclassing is the preferred solution, implemented the same behavior in the following way:"
   ]
  },
  {
   "cell_type": "code",
   "execution_count": 9,
   "metadata": {},
   "outputs": [],
   "source": [
    "class BaseDataFormat(Enum):\n",
    "    \"\"\"\n",
    "    The fact that this enum does not have any attributes/members makes it\n",
    "    abstract, since it is thus not possible to instantiate it.\n",
    "    While more direct ways of designating this class as an abstractclass, e.g.\n",
    "    using abc.ABC or abc.abstractmethod would be preferable, this doesn't seem\n",
    "    easily possible due to some differences between enums and standard classes.\n",
    "    See for example the following discussion: https://stackoverflow.com/questions/56131308/create-an-abstract-enum-class\n",
    "    \"\"\"\n",
    "    pass\n",
    "\n",
    "class StructuredDataFormat(BaseDataFormat):\n",
    "    PD_DATAFRAME = pd.DataFrame\n",
    "    NP_ARRAY = np.ndarray"
   ]
  },
  {
   "cell_type": "code",
   "execution_count": 10,
   "metadata": {},
   "outputs": [],
   "source": [
    "assert isinstance(\n",
    "    StructuredDataFormat.PD_DATAFRAME, \n",
    "    BaseDataFormat\n",
    ")"
   ]
  },
  {
   "cell_type": "markdown",
   "metadata": {},
   "source": [
    "While this works, and may seem to be of similar complexity if you look at the final version of the code, I did encounter a number of errors with hard-to-decipher error messages when trying slightly different versions. Thus, I settled on moving to virtual subclassing because it is less error-prone, and also because it generalizes easily to other use cases (e.g., for configs we may want to use unrelated data classes, but so make sure that they count as the same type)."
   ]
  },
  {
   "cell_type": "markdown",
   "metadata": {},
   "source": [
    "# Handling of duplicate values"
   ]
  },
  {
   "cell_type": "markdown",
   "metadata": {},
   "source": [
    "Let's see what happens if we use the same *value* for another member of the enum."
   ]
  },
  {
   "cell_type": "code",
   "execution_count": 7,
   "metadata": {},
   "outputs": [
    {
     "data": {
      "text/plain": [
       "<StructuredDataFormat.FIRST_MEMBER: 'duplicate value'>"
      ]
     },
     "execution_count": 7,
     "metadata": {},
     "output_type": "execute_result"
    }
   ],
   "source": [
    "class StructuredDataFormat(Enum):\n",
    "    PD_DATAFRAME = pd.DataFrame\n",
    "    FIRST_MEMBER = 'duplicate value'\n",
    "    SECOND_MEMBER = 'duplicate value'  # Different member has same value!\n",
    "    \n",
    "StructuredDataFormat.FIRST_MEMBER\n"
   ]
  },
  {
   "cell_type": "code",
   "execution_count": 8,
   "metadata": {},
   "outputs": [
    {
     "data": {
      "text/plain": [
       "<StructuredDataFormat.FIRST_MEMBER: 'duplicate value'>"
      ]
     },
     "execution_count": 8,
     "metadata": {},
     "output_type": "execute_result"
    }
   ],
   "source": [
    "# Looking up duplicate value returns first member\n",
    "StructuredDataFormat('duplicate value')"
   ]
  },
  {
   "cell_type": "markdown",
   "metadata": {},
   "source": [
    "We see that the duplicate value  doesn't cause any visible problems. We should still try to avoid this, since we don't know what other problems this may cause. Thus, if we do encounter a case where a given member maps to the same data format, we should instead consider whether we can create a more abstract member that encompasses both cases. If that's not possible/desirable, we may want to dig deeper to make sure it is safe to use duplicate values. (While our example does show that the lookup of member by value is incomplete, as it only returns the first member, I think this limitation shouldn't matter, as I can't foresee any use case where we would want to do this reverse lookup anyway.)\n",
    "\n",
    "Overall, **it's reassuring to know we don't have to be as careful, and I think this justifies not complicating our code by adding custom logic to check for duplicate values.** \n"
   ]
  }
 ],
 "metadata": {
  "kernelspec": {
   "display_name": "oject-oriented-ml-2RS15okd-py3.11",
   "language": "python",
   "name": "python3"
  },
  "language_info": {
   "codemirror_mode": {
    "name": "ipython",
    "version": 3
   },
   "file_extension": ".py",
   "mimetype": "text/x-python",
   "name": "python",
   "nbconvert_exporter": "python",
   "pygments_lexer": "ipython3",
   "version": "3.11.4"
  },
  "orig_nbformat": 4
 },
 "nbformat": 4,
 "nbformat_minor": 2
}
